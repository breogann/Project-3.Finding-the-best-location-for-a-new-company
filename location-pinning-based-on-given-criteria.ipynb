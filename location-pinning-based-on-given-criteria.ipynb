{
 "cells": [
  {
   "cell_type": "markdown",
   "metadata": {},
   "source": [
    "# location pinning based on given criteria"
   ]
  },
  {
   "cell_type": "code",
   "execution_count": null,
   "metadata": {},
   "outputs": [],
   "source": [
    "import requests\n",
    "import pymongo\n",
    "import pandas as pd\n",
    "import math\n",
    "\n",
    "import dotenv\n",
    "import json\n",
    "import os\n",
    "import requests\n",
    "from dotenv import load_dotenv\n",
    "\n",
    "load_dotenv()\n",
    "\n",
    "import geopandas as gpd\n",
    "from geopy.distance import distance\n",
    "from shapely.geometry import Point\n",
    "import matplotlib.pyplot as plt\n",
    "import numpy as np\n",
    "\n",
    "%matplotlib inline"
   ]
  },
  {
   "cell_type": "markdown",
   "metadata": {},
   "source": [
    "## Preparing the data"
   ]
  },
  {
   "cell_type": "code",
   "execution_count": null,
   "metadata": {},
   "outputs": [],
   "source": [
    "#In order to import the DB into MongoDB:\n",
    "\n",
    "from pymongo import MongoClient\n",
    "client = MongoClient(\"mongodb://localhost/companies\")\n",
    "db = client.get_database()\n",
    "\n",
    "#To keep just the columns we need:\n",
    "\n",
    "companies = list(db[\"companies\"].find({}, {\"name\":1, \"category_code\":1, \"description\":1, \"total_money_raised\":1, \"offices\":1,}))"
   ]
  },
  {
   "cell_type": "code",
   "execution_count": null,
   "metadata": {},
   "outputs": [],
   "source": [
    "#Convert into a dataframe:\n",
    "\n",
    "import pandas as pd\n",
    "df = pd.DataFrame(companies)\n",
    "df.head()"
   ]
  },
  {
   "cell_type": "code",
   "execution_count": null,
   "metadata": {},
   "outputs": [],
   "source": [
    "df=df.rename(columns={\"description\": \"description_company\"})"
   ]
  },
  {
   "cell_type": "markdown",
   "metadata": {},
   "source": [
    "### In order to obtain coordinates"
   ]
  },
  {
   "cell_type": "code",
   "execution_count": null,
   "metadata": {},
   "outputs": [],
   "source": [
    "df = df.explode('offices')"
   ]
  },
  {
   "cell_type": "code",
   "execution_count": null,
   "metadata": {},
   "outputs": [],
   "source": [
    "dfOfficeData = df[[\"offices\"]].apply(lambda r: r.offices, result_type=\"expand\", axis=1)\n",
    "cleanData = pd.concat([df,dfOfficeData], axis=1)\n",
    "\n",
    "cleanData.head()"
   ]
  },
  {
   "cell_type": "code",
   "execution_count": null,
   "metadata": {},
   "outputs": [],
   "source": [
    "cleanData = cleanData.drop(columns=[\"_id\",\"offices\", \"address1\", \"address2\", \"zip_code\", \"description\"])\n",
    "cleanData.head()"
   ]
  },
  {
   "cell_type": "code",
   "execution_count": null,
   "metadata": {},
   "outputs": [],
   "source": [
    "cleanData['latitude'].replace('', np.nan, inplace=True)\n",
    "cleanData.dropna(subset=['latitude'], inplace=True)"
   ]
  },
  {
   "cell_type": "code",
   "execution_count": null,
   "metadata": {},
   "outputs": [],
   "source": [
    "cleanData['longitude'].replace('', np.nan, inplace=True)\n",
    "cleanData.dropna(subset=['longitude'], inplace=True)"
   ]
  },
  {
   "cell_type": "markdown",
   "metadata": {},
   "source": [
    "## 1st condition: money raised > 1M"
   ]
  },
  {
   "cell_type": "code",
   "execution_count": null,
   "metadata": {},
   "outputs": [],
   "source": [
    "cleanData.astype('str').dtypes #Conversion to string to operate with the column\n",
    "cleanData['total_money_raised'].value_counts()\n",
    "cleanData.head()"
   ]
  },
  {
   "cell_type": "code",
   "execution_count": null,
   "metadata": {},
   "outputs": [],
   "source": [
    "#Only those companies whose total_money_raised is above 1M\n",
    "\n",
    "cleanData = cleanData[cleanData['total_money_raised'].str.contains(\"M\")]\n",
    "cleanData[\"total_money_raised\"].value_counts()\n",
    "cleanData.head()\n",
    "print(len(cleanData))"
   ]
  },
  {
   "cell_type": "markdown",
   "metadata": {},
   "source": [
    "## 2nd condition: field"
   ]
  },
  {
   "cell_type": "code",
   "execution_count": null,
   "metadata": {},
   "outputs": [],
   "source": [
    "cleanData.description_company = cleanData.description_company.fillna('')\n",
    "cleanData[\"description_company\"].value_counts()"
   ]
  },
  {
   "cell_type": "code",
   "execution_count": null,
   "metadata": {},
   "outputs": [],
   "source": [
    "#Only those companies with keywords in their description: design, cloud, microsoft, mobile\n",
    "\n",
    "cleanData = cleanData[cleanData['description_company'].str.contains(\"design|Cloud|Microsoft|Mobile\", case=False, regex=True)]\n",
    "\n",
    "cleanData[\"description_company\"].value_counts()\n",
    "cleanData.head()\n",
    "print(len(cleanData))"
   ]
  },
  {
   "cell_type": "markdown",
   "metadata": {},
   "source": [
    "### Format location in the dataframe"
   ]
  },
  {
   "cell_type": "code",
   "execution_count": null,
   "metadata": {},
   "outputs": [],
   "source": [
    "import math\n",
    "\n",
    "def asGeoJSON(lat,lng):\n",
    "    try:\n",
    "        lat = float(lat)\n",
    "        lng = float(lng)\n",
    "        if not math.isnan(lat) and not math.isnan(lng):\n",
    "            return {\n",
    "                \"type\":\"Point\",\n",
    "                \"coordinates\":[lng,lat]\n",
    "            }\n",
    "    except Exception:\n",
    "        print(\"Invalid data\")\n",
    "        return None\n",
    "        \n",
    "\n",
    "cleanData[\"location\"] = cleanData[[\"latitude\",\"longitude\"]].apply(lambda x:asGeoJSON(x.latitude,x.longitude), axis=1)\n",
    "\n",
    "cleanData[[\"latitude\",\"longitude\",\"location\"]].head()"
   ]
  },
  {
   "cell_type": "code",
   "execution_count": null,
   "metadata": {},
   "outputs": [],
   "source": [
    "cleanData = cleanData.rename(columns={\"location\":\"location_company\"})\n",
    "cleanData.head()"
   ]
  },
  {
   "cell_type": "markdown",
   "metadata": {},
   "source": [
    "## 3rd condition: close Starbucks"
   ]
  },
  {
   "cell_type": "code",
   "execution_count": null,
   "metadata": {},
   "outputs": [],
   "source": [
    "#FourSquare API\n",
    "\n",
    "CLIENT_ID = os.getenv(\"CLIENT_ID\")\n",
    "token = os.getenv(\"CLIENT_SECRET\")"
   ]
  },
  {
   "cell_type": "code",
   "execution_count": null,
   "metadata": {},
   "outputs": [],
   "source": [
    "def fourSquareStarbucksLat (lat, long):\n",
    "    \n",
    "    url = 'https://api.foursquare.com/v2/venues/explore'\n",
    "\n",
    "    params = dict(\n",
    "      client_id=CLIENT_ID,\n",
    "      client_secret=token,\n",
    "      v='20200210',\n",
    "      ll=lat+ \",\" + long,\n",
    "      query=\"Starbucks\",\n",
    "      limit=1\n",
    "    )\n",
    "    \n",
    "    resp = requests.get(url=url, params=params)\n",
    "    data = json.loads(resp.text)\n",
    "\n",
    "    latitud = data['response']['groups'][0]['items'][0]['venue']['location']['lat']\n",
    "\n",
    "    return latitud"
   ]
  },
  {
   "cell_type": "code",
   "execution_count": null,
   "metadata": {},
   "outputs": [],
   "source": [
    "cleanData['StarbucksLat']=cleanData.apply(lambda x: fourSquareStarbucksLat(str(x.latitude), str(x.longitude)), axis=1)\n",
    "cleanData.head()"
   ]
  },
  {
   "cell_type": "code",
   "execution_count": null,
   "metadata": {},
   "outputs": [],
   "source": [
    "def fourSquareStarbucksLong (lat, long):\n",
    "    \n",
    "    url = 'https://api.foursquare.com/v2/venues/explore'\n",
    "\n",
    "    params = dict(\n",
    "      client_id=CLIENT_ID,\n",
    "      client_secret=token,\n",
    "      v='20200210',\n",
    "      ll=lat+ \",\" + long,\n",
    "      query=\"Starbucks\",\n",
    "      limit=1\n",
    "    )\n",
    "\n",
    "    resp = requests.get(url=url, params=params)\n",
    "    data = json.loads(resp.text)\n",
    "\n",
    "    longitude = data['response']['groups'][0]['items'][0]['venue']['location']['lng']\n",
    "\n",
    "    return longitude"
   ]
  },
  {
   "cell_type": "code",
   "execution_count": null,
   "metadata": {},
   "outputs": [],
   "source": [
    "cleanData['StarbucksLong']=cleanData.apply(lambda x: fourSquareStarbucksLong(str(x.latitude), str(x.longitude)), axis=1)\n",
    "cleanData.head()"
   ]
  },
  {
   "cell_type": "code",
   "execution_count": null,
   "metadata": {},
   "outputs": [],
   "source": [
    "def fourSquareStarbucks (lat, long):\n",
    "    \n",
    "    url = 'https://api.foursquare.com/v2/venues/explore'\n",
    "\n",
    "    params = dict(\n",
    "      client_id=CLIENT_ID,\n",
    "      client_secret=token,\n",
    "      v='20200210',\n",
    "      ll=lat+ \",\" + long,\n",
    "      query=\"Starbucks\",\n",
    "      limit=1\n",
    "    )\n",
    "\n",
    "    resp = requests.get(url=url, params=params)\n",
    "    data = json.loads(resp.text)\n",
    "   \n",
    "    latitud = data['response']['groups'][0]['items'][0]['venue']['location']['lat']\n",
    "    longitude = data['response']['groups'][0]['items'][0]['venue']['location']['lng']\n",
    "\n",
    "    return {\n",
    "        \"type\":\"Point\",\n",
    "        \"coordinates\":[float(latitud),float(longitude)]}"
   ]
  },
  {
   "cell_type": "code",
   "execution_count": null,
   "metadata": {},
   "outputs": [],
   "source": [
    "cleanData['Starbucks']=cleanData.apply(lambda x: fourSquareStarbucks(str(x.latitude), str(x.longitude)), axis=1)\n",
    "cleanData.head()"
   ]
  },
  {
   "cell_type": "code",
   "execution_count": null,
   "metadata": {
    "scrolled": true
   },
   "outputs": [],
   "source": [
    "cleanData = cleanData.rename(columns={\"latitude\":\"lat_comp\", \"longitude\":\"long_comp\"})\n",
    "cleanData.head()"
   ]
  },
  {
   "cell_type": "code",
   "execution_count": null,
   "metadata": {},
   "outputs": [],
   "source": [
    "cleanData.to_csv(r'output/dfstar.csv')"
   ]
  },
  {
   "cell_type": "markdown",
   "metadata": {},
   "source": [
    "## To pin the coordinates in a map"
   ]
  },
  {
   "cell_type": "code",
   "execution_count": null,
   "metadata": {},
   "outputs": [],
   "source": [
    "import geopandas as gpd\n",
    "import pandas as pd\n",
    "\n",
    "from cartoframes.viz import Map, Layer\n",
    "from cartoframes.viz.helpers import size_continuous_layer\n",
    "from cartoframes.viz.widgets import histogram_widget\n",
    "\n",
    "import folium\n",
    "from folium import Choropleth, Circle, Marker\n",
    "from folium.plugins import HeatMap, MarkerCluster"
   ]
  },
  {
   "cell_type": "code",
   "execution_count": null,
   "metadata": {
    "scrolled": true
   },
   "outputs": [],
   "source": [
    "data = pd.read_csv(\"output/dfstar.csv\") \n",
    "dfstar = pd.DataFrame(data)\n",
    "dfstar.head()"
   ]
  },
  {
   "cell_type": "code",
   "execution_count": null,
   "metadata": {
    "scrolled": true
   },
   "outputs": [],
   "source": [
    "coorcomp = dfstar[[\"lat_comp\", \"long_comp\"]]\n",
    "gdfCompanies = gpd.GeoDataFrame(coorcomp, geometry=gpd.points_from_xy(coorcomp.lat_comp, coorcomp.long_comp))\n",
    "gdfCompanies.head()"
   ]
  },
  {
   "cell_type": "code",
   "execution_count": null,
   "metadata": {},
   "outputs": [],
   "source": [
    "coorstar = dfstar[[\"StarbucksLat\",\"StarbucksLong\"]]\n",
    "gdfStarbucks = gpd.GeoDataFrame(coorstar, geometry=gpd.points_from_xy(coorstar.StarbucksLat, coorstar.StarbucksLong))\n",
    "gdfStarbucks.head()"
   ]
  },
  {
   "cell_type": "code",
   "execution_count": null,
   "metadata": {},
   "outputs": [],
   "source": [
    "gdfStarbucks.to_file('output/starbucks.geojson', driver='GeoJSON')\n",
    "gdfStarbucks = gpd.read_file('output/starbucks.geojson', crs='EPSG:4346')"
   ]
  },
  {
   "cell_type": "code",
   "execution_count": null,
   "metadata": {
    "scrolled": true
   },
   "outputs": [],
   "source": [
    "Map(Layer(gdfCompanies, gdfStarbucks))"
   ]
  },
  {
   "cell_type": "markdown",
   "metadata": {},
   "source": [
    "# To do:\n",
    "\n",
    "### - Add more venue filters: vegan places, etc.\n",
    "### - Calculate minimun distance to rank possible places"
   ]
  }
 ],
 "metadata": {
  "kernelspec": {
   "display_name": "Python 3",
   "language": "python",
   "name": "python3"
  },
  "language_info": {
   "codemirror_mode": {
    "name": "ipython",
    "version": 3
   },
   "file_extension": ".py",
   "mimetype": "text/x-python",
   "name": "python",
   "nbconvert_exporter": "python",
   "pygments_lexer": "ipython3",
   "version": "3.7.6"
  }
 },
 "nbformat": 4,
 "nbformat_minor": 2
}
