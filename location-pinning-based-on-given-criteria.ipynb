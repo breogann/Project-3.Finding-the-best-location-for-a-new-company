{
 "cells": [
  {
   "cell_type": "markdown",
   "metadata": {},
   "source": [
    "# location pinning based on given criteria"
   ]
  },
  {
   "cell_type": "code",
   "execution_count": 1,
   "metadata": {},
   "outputs": [],
   "source": [
    "import requests\n",
    "import pymongo\n",
    "import pandas as pd\n",
    "import math\n",
    "\n",
    "import dotenv\n",
    "import json\n",
    "import os\n",
    "import requests\n",
    "from dotenv import load_dotenv\n",
    "\n",
    "load_dotenv()\n",
    "\n",
    "import geopandas as gpd\n",
    "from geopy.distance import distance\n",
    "from shapely.geometry import Point\n",
    "import matplotlib.pyplot as plt\n",
    "import numpy as np\n",
    "\n",
    "%matplotlib inline"
   ]
  },
  {
   "cell_type": "markdown",
   "metadata": {},
   "source": [
    "## Preparing the data"
   ]
  },
  {
   "cell_type": "code",
   "execution_count": 2,
   "metadata": {},
   "outputs": [],
   "source": [
    "#In order to import the DB into MongoDB:\n",
    "\n",
    "from pymongo import MongoClient\n",
    "client = MongoClient(\"mongodb://localhost/companies\")\n",
    "db = client.get_database()\n",
    "\n",
    "#To keep just the columns we need:\n",
    "\n",
    "companies = list(db[\"companies\"].find({}, {\"name\":1, \"category_code\":1, \"description\":1, \"total_money_raised\":1, \"offices\":1,}))"
   ]
  },
  {
   "cell_type": "code",
   "execution_count": 3,
   "metadata": {},
   "outputs": [
    {
     "data": {
      "text/html": [
       "<div>\n",
       "<style scoped>\n",
       "    .dataframe tbody tr th:only-of-type {\n",
       "        vertical-align: middle;\n",
       "    }\n",
       "\n",
       "    .dataframe tbody tr th {\n",
       "        vertical-align: top;\n",
       "    }\n",
       "\n",
       "    .dataframe thead th {\n",
       "        text-align: right;\n",
       "    }\n",
       "</style>\n",
       "<table border=\"1\" class=\"dataframe\">\n",
       "  <thead>\n",
       "    <tr style=\"text-align: right;\">\n",
       "      <th></th>\n",
       "      <th>_id</th>\n",
       "      <th>name</th>\n",
       "      <th>category_code</th>\n",
       "      <th>description</th>\n",
       "      <th>total_money_raised</th>\n",
       "      <th>offices</th>\n",
       "    </tr>\n",
       "  </thead>\n",
       "  <tbody>\n",
       "    <tr>\n",
       "      <th>0</th>\n",
       "      <td>52cdef7c4bab8bd675297d8b</td>\n",
       "      <td>AdventNet</td>\n",
       "      <td>enterprise</td>\n",
       "      <td>Server Management Software</td>\n",
       "      <td>$0</td>\n",
       "      <td>[{'description': 'Headquarters', 'address1': '...</td>\n",
       "    </tr>\n",
       "    <tr>\n",
       "      <th>1</th>\n",
       "      <td>52cdef7c4bab8bd675297d8a</td>\n",
       "      <td>Wetpaint</td>\n",
       "      <td>web</td>\n",
       "      <td>Technology Platform Company</td>\n",
       "      <td>$39.8M</td>\n",
       "      <td>[{'description': '', 'address1': '710 - 2nd Av...</td>\n",
       "    </tr>\n",
       "    <tr>\n",
       "      <th>2</th>\n",
       "      <td>52cdef7c4bab8bd675297d8c</td>\n",
       "      <td>Zoho</td>\n",
       "      <td>software</td>\n",
       "      <td>Online Business Apps Suite</td>\n",
       "      <td>$0</td>\n",
       "      <td>[{'description': 'Headquarters', 'address1': '...</td>\n",
       "    </tr>\n",
       "    <tr>\n",
       "      <th>3</th>\n",
       "      <td>52cdef7c4bab8bd675297d8f</td>\n",
       "      <td>Omnidrive</td>\n",
       "      <td>network_hosting</td>\n",
       "      <td>None</td>\n",
       "      <td>$800k</td>\n",
       "      <td>[{'description': '', 'address1': 'Suite 200', ...</td>\n",
       "    </tr>\n",
       "    <tr>\n",
       "      <th>4</th>\n",
       "      <td>52cdef7c4bab8bd675297d92</td>\n",
       "      <td>Flektor</td>\n",
       "      <td>games_video</td>\n",
       "      <td>None</td>\n",
       "      <td>$0</td>\n",
       "      <td>[{'description': None, 'address1': '8536 Natio...</td>\n",
       "    </tr>\n",
       "  </tbody>\n",
       "</table>\n",
       "</div>"
      ],
      "text/plain": [
       "                        _id       name    category_code  \\\n",
       "0  52cdef7c4bab8bd675297d8b  AdventNet       enterprise   \n",
       "1  52cdef7c4bab8bd675297d8a   Wetpaint              web   \n",
       "2  52cdef7c4bab8bd675297d8c       Zoho         software   \n",
       "3  52cdef7c4bab8bd675297d8f  Omnidrive  network_hosting   \n",
       "4  52cdef7c4bab8bd675297d92    Flektor      games_video   \n",
       "\n",
       "                   description total_money_raised  \\\n",
       "0   Server Management Software                 $0   \n",
       "1  Technology Platform Company             $39.8M   \n",
       "2   Online Business Apps Suite                 $0   \n",
       "3                         None              $800k   \n",
       "4                         None                 $0   \n",
       "\n",
       "                                             offices  \n",
       "0  [{'description': 'Headquarters', 'address1': '...  \n",
       "1  [{'description': '', 'address1': '710 - 2nd Av...  \n",
       "2  [{'description': 'Headquarters', 'address1': '...  \n",
       "3  [{'description': '', 'address1': 'Suite 200', ...  \n",
       "4  [{'description': None, 'address1': '8536 Natio...  "
      ]
     },
     "execution_count": 3,
     "metadata": {},
     "output_type": "execute_result"
    }
   ],
   "source": [
    "#Convert into a dataframe:\n",
    "\n",
    "import pandas as pd\n",
    "df = pd.DataFrame(companies)\n",
    "df.head()"
   ]
  },
  {
   "cell_type": "code",
   "execution_count": 4,
   "metadata": {},
   "outputs": [],
   "source": [
    "df=df.rename(columns={\"description\": \"description_company\"})"
   ]
  },
  {
   "cell_type": "markdown",
   "metadata": {},
   "source": [
    "### In order to obtain coordinates"
   ]
  },
  {
   "cell_type": "code",
   "execution_count": 5,
   "metadata": {},
   "outputs": [],
   "source": [
    "df = df.explode('offices')"
   ]
  },
  {
   "cell_type": "code",
   "execution_count": 6,
   "metadata": {},
   "outputs": [
    {
     "data": {
      "text/html": [
       "<div>\n",
       "<style scoped>\n",
       "    .dataframe tbody tr th:only-of-type {\n",
       "        vertical-align: middle;\n",
       "    }\n",
       "\n",
       "    .dataframe tbody tr th {\n",
       "        vertical-align: top;\n",
       "    }\n",
       "\n",
       "    .dataframe thead th {\n",
       "        text-align: right;\n",
       "    }\n",
       "</style>\n",
       "<table border=\"1\" class=\"dataframe\">\n",
       "  <thead>\n",
       "    <tr style=\"text-align: right;\">\n",
       "      <th></th>\n",
       "      <th>_id</th>\n",
       "      <th>name</th>\n",
       "      <th>category_code</th>\n",
       "      <th>description_company</th>\n",
       "      <th>total_money_raised</th>\n",
       "      <th>offices</th>\n",
       "      <th>description</th>\n",
       "      <th>address1</th>\n",
       "      <th>address2</th>\n",
       "      <th>zip_code</th>\n",
       "      <th>city</th>\n",
       "      <th>state_code</th>\n",
       "      <th>country_code</th>\n",
       "      <th>latitude</th>\n",
       "      <th>longitude</th>\n",
       "    </tr>\n",
       "  </thead>\n",
       "  <tbody>\n",
       "    <tr>\n",
       "      <th>0</th>\n",
       "      <td>52cdef7c4bab8bd675297d8b</td>\n",
       "      <td>AdventNet</td>\n",
       "      <td>enterprise</td>\n",
       "      <td>Server Management Software</td>\n",
       "      <td>$0</td>\n",
       "      <td>{'description': 'Headquarters', 'address1': '4...</td>\n",
       "      <td>Headquarters</td>\n",
       "      <td>4900 Hopyard Rd.</td>\n",
       "      <td>Suite 310</td>\n",
       "      <td>94588</td>\n",
       "      <td>Pleasanton</td>\n",
       "      <td>CA</td>\n",
       "      <td>USA</td>\n",
       "      <td>37.692934</td>\n",
       "      <td>-121.904945</td>\n",
       "    </tr>\n",
       "    <tr>\n",
       "      <th>1</th>\n",
       "      <td>52cdef7c4bab8bd675297d8a</td>\n",
       "      <td>Wetpaint</td>\n",
       "      <td>web</td>\n",
       "      <td>Technology Platform Company</td>\n",
       "      <td>$39.8M</td>\n",
       "      <td>{'description': '', 'address1': '710 - 2nd Ave...</td>\n",
       "      <td></td>\n",
       "      <td>710 - 2nd Avenue</td>\n",
       "      <td>Suite 1100</td>\n",
       "      <td>98104</td>\n",
       "      <td>Seattle</td>\n",
       "      <td>WA</td>\n",
       "      <td>USA</td>\n",
       "      <td>47.603122</td>\n",
       "      <td>-122.333253</td>\n",
       "    </tr>\n",
       "    <tr>\n",
       "      <th>1</th>\n",
       "      <td>52cdef7c4bab8bd675297d8a</td>\n",
       "      <td>Wetpaint</td>\n",
       "      <td>web</td>\n",
       "      <td>Technology Platform Company</td>\n",
       "      <td>$39.8M</td>\n",
       "      <td>{'description': '', 'address1': '270 Lafayette...</td>\n",
       "      <td></td>\n",
       "      <td>270 Lafayette Street</td>\n",
       "      <td>Suite 505</td>\n",
       "      <td>10012</td>\n",
       "      <td>New York</td>\n",
       "      <td>NY</td>\n",
       "      <td>USA</td>\n",
       "      <td>40.723731</td>\n",
       "      <td>-73.996431</td>\n",
       "    </tr>\n",
       "    <tr>\n",
       "      <th>2</th>\n",
       "      <td>52cdef7c4bab8bd675297d8c</td>\n",
       "      <td>Zoho</td>\n",
       "      <td>software</td>\n",
       "      <td>Online Business Apps Suite</td>\n",
       "      <td>$0</td>\n",
       "      <td>{'description': 'Headquarters', 'address1': '4...</td>\n",
       "      <td>Headquarters</td>\n",
       "      <td>4900 Hopyard Rd</td>\n",
       "      <td>Suite 310</td>\n",
       "      <td>94588</td>\n",
       "      <td>Pleasanton</td>\n",
       "      <td>CA</td>\n",
       "      <td>USA</td>\n",
       "      <td>37.692934</td>\n",
       "      <td>-121.904945</td>\n",
       "    </tr>\n",
       "    <tr>\n",
       "      <th>3</th>\n",
       "      <td>52cdef7c4bab8bd675297d8f</td>\n",
       "      <td>Omnidrive</td>\n",
       "      <td>network_hosting</td>\n",
       "      <td>None</td>\n",
       "      <td>$800k</td>\n",
       "      <td>{'description': '', 'address1': 'Suite 200', '...</td>\n",
       "      <td></td>\n",
       "      <td>Suite 200</td>\n",
       "      <td>654 High Street</td>\n",
       "      <td>94301</td>\n",
       "      <td>Palo Alto</td>\n",
       "      <td>CA</td>\n",
       "      <td>ISR</td>\n",
       "      <td>NaN</td>\n",
       "      <td>NaN</td>\n",
       "    </tr>\n",
       "  </tbody>\n",
       "</table>\n",
       "</div>"
      ],
      "text/plain": [
       "                        _id       name    category_code  \\\n",
       "0  52cdef7c4bab8bd675297d8b  AdventNet       enterprise   \n",
       "1  52cdef7c4bab8bd675297d8a   Wetpaint              web   \n",
       "1  52cdef7c4bab8bd675297d8a   Wetpaint              web   \n",
       "2  52cdef7c4bab8bd675297d8c       Zoho         software   \n",
       "3  52cdef7c4bab8bd675297d8f  Omnidrive  network_hosting   \n",
       "\n",
       "           description_company total_money_raised  \\\n",
       "0   Server Management Software                 $0   \n",
       "1  Technology Platform Company             $39.8M   \n",
       "1  Technology Platform Company             $39.8M   \n",
       "2   Online Business Apps Suite                 $0   \n",
       "3                         None              $800k   \n",
       "\n",
       "                                             offices   description  \\\n",
       "0  {'description': 'Headquarters', 'address1': '4...  Headquarters   \n",
       "1  {'description': '', 'address1': '710 - 2nd Ave...                 \n",
       "1  {'description': '', 'address1': '270 Lafayette...                 \n",
       "2  {'description': 'Headquarters', 'address1': '4...  Headquarters   \n",
       "3  {'description': '', 'address1': 'Suite 200', '...                 \n",
       "\n",
       "               address1         address2 zip_code        city state_code  \\\n",
       "0      4900 Hopyard Rd.        Suite 310    94588  Pleasanton         CA   \n",
       "1      710 - 2nd Avenue       Suite 1100    98104     Seattle         WA   \n",
       "1  270 Lafayette Street        Suite 505    10012    New York         NY   \n",
       "2       4900 Hopyard Rd        Suite 310    94588  Pleasanton         CA   \n",
       "3             Suite 200  654 High Street    94301   Palo Alto         CA   \n",
       "\n",
       "  country_code   latitude   longitude  \n",
       "0          USA  37.692934 -121.904945  \n",
       "1          USA  47.603122 -122.333253  \n",
       "1          USA  40.723731  -73.996431  \n",
       "2          USA  37.692934 -121.904945  \n",
       "3          ISR        NaN         NaN  "
      ]
     },
     "execution_count": 6,
     "metadata": {},
     "output_type": "execute_result"
    }
   ],
   "source": [
    "dfOfficeData = df[[\"offices\"]].apply(lambda r: r.offices, result_type=\"expand\", axis=1)\n",
    "cleanData = pd.concat([df,dfOfficeData], axis=1)\n",
    "\n",
    "cleanData.head()"
   ]
  },
  {
   "cell_type": "code",
   "execution_count": 7,
   "metadata": {},
   "outputs": [
    {
     "data": {
      "text/html": [
       "<div>\n",
       "<style scoped>\n",
       "    .dataframe tbody tr th:only-of-type {\n",
       "        vertical-align: middle;\n",
       "    }\n",
       "\n",
       "    .dataframe tbody tr th {\n",
       "        vertical-align: top;\n",
       "    }\n",
       "\n",
       "    .dataframe thead th {\n",
       "        text-align: right;\n",
       "    }\n",
       "</style>\n",
       "<table border=\"1\" class=\"dataframe\">\n",
       "  <thead>\n",
       "    <tr style=\"text-align: right;\">\n",
       "      <th></th>\n",
       "      <th>name</th>\n",
       "      <th>category_code</th>\n",
       "      <th>description_company</th>\n",
       "      <th>total_money_raised</th>\n",
       "      <th>city</th>\n",
       "      <th>state_code</th>\n",
       "      <th>country_code</th>\n",
       "      <th>latitude</th>\n",
       "      <th>longitude</th>\n",
       "    </tr>\n",
       "  </thead>\n",
       "  <tbody>\n",
       "    <tr>\n",
       "      <th>0</th>\n",
       "      <td>AdventNet</td>\n",
       "      <td>enterprise</td>\n",
       "      <td>Server Management Software</td>\n",
       "      <td>$0</td>\n",
       "      <td>Pleasanton</td>\n",
       "      <td>CA</td>\n",
       "      <td>USA</td>\n",
       "      <td>37.692934</td>\n",
       "      <td>-121.904945</td>\n",
       "    </tr>\n",
       "    <tr>\n",
       "      <th>1</th>\n",
       "      <td>Wetpaint</td>\n",
       "      <td>web</td>\n",
       "      <td>Technology Platform Company</td>\n",
       "      <td>$39.8M</td>\n",
       "      <td>Seattle</td>\n",
       "      <td>WA</td>\n",
       "      <td>USA</td>\n",
       "      <td>47.603122</td>\n",
       "      <td>-122.333253</td>\n",
       "    </tr>\n",
       "    <tr>\n",
       "      <th>1</th>\n",
       "      <td>Wetpaint</td>\n",
       "      <td>web</td>\n",
       "      <td>Technology Platform Company</td>\n",
       "      <td>$39.8M</td>\n",
       "      <td>New York</td>\n",
       "      <td>NY</td>\n",
       "      <td>USA</td>\n",
       "      <td>40.723731</td>\n",
       "      <td>-73.996431</td>\n",
       "    </tr>\n",
       "    <tr>\n",
       "      <th>2</th>\n",
       "      <td>Zoho</td>\n",
       "      <td>software</td>\n",
       "      <td>Online Business Apps Suite</td>\n",
       "      <td>$0</td>\n",
       "      <td>Pleasanton</td>\n",
       "      <td>CA</td>\n",
       "      <td>USA</td>\n",
       "      <td>37.692934</td>\n",
       "      <td>-121.904945</td>\n",
       "    </tr>\n",
       "    <tr>\n",
       "      <th>3</th>\n",
       "      <td>Omnidrive</td>\n",
       "      <td>network_hosting</td>\n",
       "      <td>None</td>\n",
       "      <td>$800k</td>\n",
       "      <td>Palo Alto</td>\n",
       "      <td>CA</td>\n",
       "      <td>ISR</td>\n",
       "      <td>NaN</td>\n",
       "      <td>NaN</td>\n",
       "    </tr>\n",
       "  </tbody>\n",
       "</table>\n",
       "</div>"
      ],
      "text/plain": [
       "        name    category_code          description_company total_money_raised  \\\n",
       "0  AdventNet       enterprise   Server Management Software                 $0   \n",
       "1   Wetpaint              web  Technology Platform Company             $39.8M   \n",
       "1   Wetpaint              web  Technology Platform Company             $39.8M   \n",
       "2       Zoho         software   Online Business Apps Suite                 $0   \n",
       "3  Omnidrive  network_hosting                         None              $800k   \n",
       "\n",
       "         city state_code country_code   latitude   longitude  \n",
       "0  Pleasanton         CA          USA  37.692934 -121.904945  \n",
       "1     Seattle         WA          USA  47.603122 -122.333253  \n",
       "1    New York         NY          USA  40.723731  -73.996431  \n",
       "2  Pleasanton         CA          USA  37.692934 -121.904945  \n",
       "3   Palo Alto         CA          ISR        NaN         NaN  "
      ]
     },
     "execution_count": 7,
     "metadata": {},
     "output_type": "execute_result"
    }
   ],
   "source": [
    "cleanData = cleanData.drop(columns=[\"_id\",\"offices\", \"address1\", \"address2\", \"zip_code\", \"description\"])\n",
    "cleanData.head()"
   ]
  },
  {
   "cell_type": "code",
   "execution_count": 8,
   "metadata": {},
   "outputs": [],
   "source": [
    "cleanData['latitude'].replace('', np.nan, inplace=True)\n",
    "cleanData.dropna(subset=['latitude'], inplace=True)"
   ]
  },
  {
   "cell_type": "code",
   "execution_count": 9,
   "metadata": {},
   "outputs": [],
   "source": [
    "cleanData['longitude'].replace('', np.nan, inplace=True)\n",
    "cleanData.dropna(subset=['longitude'], inplace=True)"
   ]
  },
  {
   "cell_type": "markdown",
   "metadata": {},
   "source": [
    "## 1st condition: money raised > 1M"
   ]
  },
  {
   "cell_type": "code",
   "execution_count": 10,
   "metadata": {},
   "outputs": [
    {
     "data": {
      "text/html": [
       "<div>\n",
       "<style scoped>\n",
       "    .dataframe tbody tr th:only-of-type {\n",
       "        vertical-align: middle;\n",
       "    }\n",
       "\n",
       "    .dataframe tbody tr th {\n",
       "        vertical-align: top;\n",
       "    }\n",
       "\n",
       "    .dataframe thead th {\n",
       "        text-align: right;\n",
       "    }\n",
       "</style>\n",
       "<table border=\"1\" class=\"dataframe\">\n",
       "  <thead>\n",
       "    <tr style=\"text-align: right;\">\n",
       "      <th></th>\n",
       "      <th>name</th>\n",
       "      <th>category_code</th>\n",
       "      <th>description_company</th>\n",
       "      <th>total_money_raised</th>\n",
       "      <th>city</th>\n",
       "      <th>state_code</th>\n",
       "      <th>country_code</th>\n",
       "      <th>latitude</th>\n",
       "      <th>longitude</th>\n",
       "    </tr>\n",
       "  </thead>\n",
       "  <tbody>\n",
       "    <tr>\n",
       "      <th>0</th>\n",
       "      <td>AdventNet</td>\n",
       "      <td>enterprise</td>\n",
       "      <td>Server Management Software</td>\n",
       "      <td>$0</td>\n",
       "      <td>Pleasanton</td>\n",
       "      <td>CA</td>\n",
       "      <td>USA</td>\n",
       "      <td>37.692934</td>\n",
       "      <td>-121.904945</td>\n",
       "    </tr>\n",
       "    <tr>\n",
       "      <th>1</th>\n",
       "      <td>Wetpaint</td>\n",
       "      <td>web</td>\n",
       "      <td>Technology Platform Company</td>\n",
       "      <td>$39.8M</td>\n",
       "      <td>Seattle</td>\n",
       "      <td>WA</td>\n",
       "      <td>USA</td>\n",
       "      <td>47.603122</td>\n",
       "      <td>-122.333253</td>\n",
       "    </tr>\n",
       "    <tr>\n",
       "      <th>1</th>\n",
       "      <td>Wetpaint</td>\n",
       "      <td>web</td>\n",
       "      <td>Technology Platform Company</td>\n",
       "      <td>$39.8M</td>\n",
       "      <td>New York</td>\n",
       "      <td>NY</td>\n",
       "      <td>USA</td>\n",
       "      <td>40.723731</td>\n",
       "      <td>-73.996431</td>\n",
       "    </tr>\n",
       "    <tr>\n",
       "      <th>2</th>\n",
       "      <td>Zoho</td>\n",
       "      <td>software</td>\n",
       "      <td>Online Business Apps Suite</td>\n",
       "      <td>$0</td>\n",
       "      <td>Pleasanton</td>\n",
       "      <td>CA</td>\n",
       "      <td>USA</td>\n",
       "      <td>37.692934</td>\n",
       "      <td>-121.904945</td>\n",
       "    </tr>\n",
       "    <tr>\n",
       "      <th>4</th>\n",
       "      <td>Flektor</td>\n",
       "      <td>games_video</td>\n",
       "      <td>None</td>\n",
       "      <td>$0</td>\n",
       "      <td>Culver City</td>\n",
       "      <td>CA</td>\n",
       "      <td>USA</td>\n",
       "      <td>34.025958</td>\n",
       "      <td>-118.379768</td>\n",
       "    </tr>\n",
       "  </tbody>\n",
       "</table>\n",
       "</div>"
      ],
      "text/plain": [
       "        name category_code          description_company total_money_raised  \\\n",
       "0  AdventNet    enterprise   Server Management Software                 $0   \n",
       "1   Wetpaint           web  Technology Platform Company             $39.8M   \n",
       "1   Wetpaint           web  Technology Platform Company             $39.8M   \n",
       "2       Zoho      software   Online Business Apps Suite                 $0   \n",
       "4    Flektor   games_video                         None                 $0   \n",
       "\n",
       "          city state_code country_code   latitude   longitude  \n",
       "0   Pleasanton         CA          USA  37.692934 -121.904945  \n",
       "1      Seattle         WA          USA  47.603122 -122.333253  \n",
       "1     New York         NY          USA  40.723731  -73.996431  \n",
       "2   Pleasanton         CA          USA  37.692934 -121.904945  \n",
       "4  Culver City         CA          USA  34.025958 -118.379768  "
      ]
     },
     "execution_count": 10,
     "metadata": {},
     "output_type": "execute_result"
    }
   ],
   "source": [
    "cleanData.astype('str').dtypes #Conversion to string to operate with the column\n",
    "cleanData['total_money_raised'].value_counts()\n",
    "cleanData.head()"
   ]
  },
  {
   "cell_type": "code",
   "execution_count": 11,
   "metadata": {},
   "outputs": [
    {
     "name": "stdout",
     "output_type": "stream",
     "text": [
      "3364\n"
     ]
    }
   ],
   "source": [
    "#Only those companies whose total_money_raised is above 1M\n",
    "\n",
    "cleanData = cleanData[cleanData['total_money_raised'].str.contains(\"M\")]\n",
    "cleanData[\"total_money_raised\"].value_counts()\n",
    "cleanData.head()\n",
    "print(len(cleanData))"
   ]
  },
  {
   "cell_type": "markdown",
   "metadata": {},
   "source": [
    "## 2nd condition: field"
   ]
  },
  {
   "cell_type": "code",
   "execution_count": 12,
   "metadata": {},
   "outputs": [
    {
     "data": {
      "text/plain": [
       "                                            773\n",
       "Microsoft Business Solutions Consultancy     16\n",
       "Innovative Software Product Creation         12\n",
       "Data Archiving Software                      10\n",
       "Mobile Business and Entertainment             8\n",
       "                                           ... \n",
       "Cloud computing and app management            1\n",
       "White Label Social Media                      1\n",
       "Mobile Media Delivery                         1\n",
       "Online social ticketing platform              1\n",
       "Direct Marketing Company                      1\n",
       "Name: description_company, Length: 2154, dtype: int64"
      ]
     },
     "execution_count": 12,
     "metadata": {},
     "output_type": "execute_result"
    }
   ],
   "source": [
    "cleanData.description_company = cleanData.description_company.fillna('')\n",
    "cleanData[\"description_company\"].value_counts()"
   ]
  },
  {
   "cell_type": "code",
   "execution_count": 13,
   "metadata": {},
   "outputs": [
    {
     "name": "stdout",
     "output_type": "stream",
     "text": [
      "269\n"
     ]
    }
   ],
   "source": [
    "#Only those companies with keywords in their description: design, cloud, microsoft, mobile\n",
    "\n",
    "cleanData = cleanData[cleanData['description_company'].str.contains(\"design|Cloud|Microsoft|Mobile\", case=False, regex=True)]\n",
    "\n",
    "cleanData[\"description_company\"].value_counts()\n",
    "cleanData.head()\n",
    "print(len(cleanData))"
   ]
  },
  {
   "cell_type": "markdown",
   "metadata": {},
   "source": [
    "### Format location in the dataframe"
   ]
  },
  {
   "cell_type": "code",
   "execution_count": 14,
   "metadata": {},
   "outputs": [
    {
     "data": {
      "text/html": [
       "<div>\n",
       "<style scoped>\n",
       "    .dataframe tbody tr th:only-of-type {\n",
       "        vertical-align: middle;\n",
       "    }\n",
       "\n",
       "    .dataframe tbody tr th {\n",
       "        vertical-align: top;\n",
       "    }\n",
       "\n",
       "    .dataframe thead th {\n",
       "        text-align: right;\n",
       "    }\n",
       "</style>\n",
       "<table border=\"1\" class=\"dataframe\">\n",
       "  <thead>\n",
       "    <tr style=\"text-align: right;\">\n",
       "      <th></th>\n",
       "      <th>latitude</th>\n",
       "      <th>longitude</th>\n",
       "      <th>location</th>\n",
       "    </tr>\n",
       "  </thead>\n",
       "  <tbody>\n",
       "    <tr>\n",
       "      <th>15</th>\n",
       "      <td>40.757929</td>\n",
       "      <td>-73.985506</td>\n",
       "      <td>{'type': 'Point', 'coordinates': [-73.985506, ...</td>\n",
       "    </tr>\n",
       "    <tr>\n",
       "      <th>29</th>\n",
       "      <td>37.788482</td>\n",
       "      <td>-122.409173</td>\n",
       "      <td>{'type': 'Point', 'coordinates': [-122.409173,...</td>\n",
       "    </tr>\n",
       "    <tr>\n",
       "      <th>33</th>\n",
       "      <td>37.480999</td>\n",
       "      <td>-122.173887</td>\n",
       "      <td>{'type': 'Point', 'coordinates': [-122.173887,...</td>\n",
       "    </tr>\n",
       "    <tr>\n",
       "      <th>69</th>\n",
       "      <td>42.375392</td>\n",
       "      <td>-71.118487</td>\n",
       "      <td>{'type': 'Point', 'coordinates': [-71.118487, ...</td>\n",
       "    </tr>\n",
       "    <tr>\n",
       "      <th>69</th>\n",
       "      <td>37.780134</td>\n",
       "      <td>-122.396744</td>\n",
       "      <td>{'type': 'Point', 'coordinates': [-122.396744,...</td>\n",
       "    </tr>\n",
       "  </tbody>\n",
       "</table>\n",
       "</div>"
      ],
      "text/plain": [
       "     latitude   longitude                                           location\n",
       "15  40.757929  -73.985506  {'type': 'Point', 'coordinates': [-73.985506, ...\n",
       "29  37.788482 -122.409173  {'type': 'Point', 'coordinates': [-122.409173,...\n",
       "33  37.480999 -122.173887  {'type': 'Point', 'coordinates': [-122.173887,...\n",
       "69  42.375392  -71.118487  {'type': 'Point', 'coordinates': [-71.118487, ...\n",
       "69  37.780134 -122.396744  {'type': 'Point', 'coordinates': [-122.396744,..."
      ]
     },
     "execution_count": 14,
     "metadata": {},
     "output_type": "execute_result"
    }
   ],
   "source": [
    "import math\n",
    "\n",
    "def asGeoJSON(lat,lng):\n",
    "    try:\n",
    "        lat = float(lat)\n",
    "        lng = float(lng)\n",
    "        if not math.isnan(lat) and not math.isnan(lng):\n",
    "            return {\n",
    "                \"type\":\"Point\",\n",
    "                \"coordinates\":[lng,lat]\n",
    "            }\n",
    "    except Exception:\n",
    "        print(\"Invalid data\")\n",
    "        return None\n",
    "        \n",
    "\n",
    "cleanData[\"location\"] = cleanData[[\"latitude\",\"longitude\"]].apply(lambda x:asGeoJSON(x.latitude,x.longitude), axis=1)\n",
    "\n",
    "cleanData[[\"latitude\",\"longitude\",\"location\"]].head()"
   ]
  },
  {
   "cell_type": "code",
   "execution_count": 15,
   "metadata": {},
   "outputs": [
    {
     "data": {
      "text/html": [
       "<div>\n",
       "<style scoped>\n",
       "    .dataframe tbody tr th:only-of-type {\n",
       "        vertical-align: middle;\n",
       "    }\n",
       "\n",
       "    .dataframe tbody tr th {\n",
       "        vertical-align: top;\n",
       "    }\n",
       "\n",
       "    .dataframe thead th {\n",
       "        text-align: right;\n",
       "    }\n",
       "</style>\n",
       "<table border=\"1\" class=\"dataframe\">\n",
       "  <thead>\n",
       "    <tr style=\"text-align: right;\">\n",
       "      <th></th>\n",
       "      <th>name</th>\n",
       "      <th>category_code</th>\n",
       "      <th>description_company</th>\n",
       "      <th>total_money_raised</th>\n",
       "      <th>city</th>\n",
       "      <th>state_code</th>\n",
       "      <th>country_code</th>\n",
       "      <th>latitude</th>\n",
       "      <th>longitude</th>\n",
       "      <th>location_company</th>\n",
       "    </tr>\n",
       "  </thead>\n",
       "  <tbody>\n",
       "    <tr>\n",
       "      <th>15</th>\n",
       "      <td>MeetMoi</td>\n",
       "      <td>social</td>\n",
       "      <td>Mobile Dating</td>\n",
       "      <td>$5.58M</td>\n",
       "      <td>New York City</td>\n",
       "      <td>NY</td>\n",
       "      <td>USA</td>\n",
       "      <td>40.757929</td>\n",
       "      <td>-73.985506</td>\n",
       "      <td>{'type': 'Point', 'coordinates': [-73.985506, ...</td>\n",
       "    </tr>\n",
       "    <tr>\n",
       "      <th>29</th>\n",
       "      <td>Kyte</td>\n",
       "      <td>games_video</td>\n",
       "      <td>Online &amp; Mobile Video Platform</td>\n",
       "      <td>$23.4M</td>\n",
       "      <td>San Francisco</td>\n",
       "      <td>CA</td>\n",
       "      <td>USA</td>\n",
       "      <td>37.788482</td>\n",
       "      <td>-122.409173</td>\n",
       "      <td>{'type': 'Point', 'coordinates': [-122.409173,...</td>\n",
       "    </tr>\n",
       "    <tr>\n",
       "      <th>33</th>\n",
       "      <td>Jingle Networks</td>\n",
       "      <td>mobile</td>\n",
       "      <td>Voice and Mobile Search</td>\n",
       "      <td>$88.7M</td>\n",
       "      <td>New York</td>\n",
       "      <td>NY</td>\n",
       "      <td>USA</td>\n",
       "      <td>37.480999</td>\n",
       "      <td>-122.173887</td>\n",
       "      <td>{'type': 'Point', 'coordinates': [-122.173887,...</td>\n",
       "    </tr>\n",
       "    <tr>\n",
       "      <th>69</th>\n",
       "      <td>iSkoot</td>\n",
       "      <td>mobile</td>\n",
       "      <td>Mobile VOIP service</td>\n",
       "      <td>$32.2M</td>\n",
       "      <td>Cambridge</td>\n",
       "      <td>MA</td>\n",
       "      <td>USA</td>\n",
       "      <td>42.375392</td>\n",
       "      <td>-71.118487</td>\n",
       "      <td>{'type': 'Point', 'coordinates': [-71.118487, ...</td>\n",
       "    </tr>\n",
       "    <tr>\n",
       "      <th>69</th>\n",
       "      <td>iSkoot</td>\n",
       "      <td>mobile</td>\n",
       "      <td>Mobile VOIP service</td>\n",
       "      <td>$32.2M</td>\n",
       "      <td>San Francisco</td>\n",
       "      <td>CA</td>\n",
       "      <td>USA</td>\n",
       "      <td>37.780134</td>\n",
       "      <td>-122.396744</td>\n",
       "      <td>{'type': 'Point', 'coordinates': [-122.396744,...</td>\n",
       "    </tr>\n",
       "  </tbody>\n",
       "</table>\n",
       "</div>"
      ],
      "text/plain": [
       "               name category_code             description_company  \\\n",
       "15          MeetMoi        social                   Mobile Dating   \n",
       "29             Kyte   games_video  Online & Mobile Video Platform   \n",
       "33  Jingle Networks        mobile         Voice and Mobile Search   \n",
       "69           iSkoot        mobile             Mobile VOIP service   \n",
       "69           iSkoot        mobile             Mobile VOIP service   \n",
       "\n",
       "   total_money_raised           city state_code country_code   latitude  \\\n",
       "15             $5.58M  New York City         NY          USA  40.757929   \n",
       "29             $23.4M  San Francisco         CA          USA  37.788482   \n",
       "33             $88.7M       New York         NY          USA  37.480999   \n",
       "69             $32.2M      Cambridge         MA          USA  42.375392   \n",
       "69             $32.2M  San Francisco         CA          USA  37.780134   \n",
       "\n",
       "     longitude                                   location_company  \n",
       "15  -73.985506  {'type': 'Point', 'coordinates': [-73.985506, ...  \n",
       "29 -122.409173  {'type': 'Point', 'coordinates': [-122.409173,...  \n",
       "33 -122.173887  {'type': 'Point', 'coordinates': [-122.173887,...  \n",
       "69  -71.118487  {'type': 'Point', 'coordinates': [-71.118487, ...  \n",
       "69 -122.396744  {'type': 'Point', 'coordinates': [-122.396744,...  "
      ]
     },
     "execution_count": 15,
     "metadata": {},
     "output_type": "execute_result"
    }
   ],
   "source": [
    "cleanData = cleanData.rename(columns={\"location\":\"location_company\"})\n",
    "cleanData.head()"
   ]
  },
  {
   "cell_type": "markdown",
   "metadata": {},
   "source": [
    "## 3rd condition: close Starbucks"
   ]
  },
  {
   "cell_type": "code",
   "execution_count": 16,
   "metadata": {},
   "outputs": [],
   "source": [
    "#FourSquare API\n",
    "\n",
    "CLIENT_ID = os.getenv(\"CLIENT_ID\")\n",
    "token = os.getenv(\"CLIENT_SECRET\")"
   ]
  },
  {
   "cell_type": "code",
   "execution_count": 17,
   "metadata": {},
   "outputs": [],
   "source": [
    "def fourSquareStarbucksLat (lat, long):\n",
    "    \n",
    "    url = 'https://api.foursquare.com/v2/venues/explore'\n",
    "\n",
    "    params = dict(\n",
    "      client_id=CLIENT_ID,\n",
    "      client_secret=token,\n",
    "      v='20200210',\n",
    "      ll=lat+ \",\" + long,\n",
    "      query=\"Starbucks\",\n",
    "      limit=1\n",
    "    )\n",
    "    \n",
    "    resp = requests.get(url=url, params=params)\n",
    "    data = json.loads(resp.text)\n",
    "\n",
    "    latitud = data['response']['groups'][0]['items'][0]['venue']['location']['lat']\n",
    "\n",
    "    return latitud"
   ]
  },
  {
   "cell_type": "code",
   "execution_count": 18,
   "metadata": {},
   "outputs": [
    {
     "ename": "KeyError",
     "evalue": "('groups', 'occurred at index 15')",
     "output_type": "error",
     "traceback": [
      "\u001b[0;31m---------------------------------------------------------------------------\u001b[0m",
      "\u001b[0;31mKeyError\u001b[0m                                  Traceback (most recent call last)",
      "\u001b[0;32m<ipython-input-18-e64e2c91b085>\u001b[0m in \u001b[0;36m<module>\u001b[0;34m\u001b[0m\n\u001b[0;32m----> 1\u001b[0;31m \u001b[0mcleanData\u001b[0m\u001b[0;34m[\u001b[0m\u001b[0;34m'StarbucksLat'\u001b[0m\u001b[0;34m]\u001b[0m\u001b[0;34m=\u001b[0m\u001b[0mcleanData\u001b[0m\u001b[0;34m.\u001b[0m\u001b[0mapply\u001b[0m\u001b[0;34m(\u001b[0m\u001b[0;32mlambda\u001b[0m \u001b[0mx\u001b[0m\u001b[0;34m:\u001b[0m \u001b[0mfourSquareStarbucksLat\u001b[0m\u001b[0;34m(\u001b[0m\u001b[0mstr\u001b[0m\u001b[0;34m(\u001b[0m\u001b[0mx\u001b[0m\u001b[0;34m.\u001b[0m\u001b[0mlatitude\u001b[0m\u001b[0;34m)\u001b[0m\u001b[0;34m,\u001b[0m \u001b[0mstr\u001b[0m\u001b[0;34m(\u001b[0m\u001b[0mx\u001b[0m\u001b[0;34m.\u001b[0m\u001b[0mlongitude\u001b[0m\u001b[0;34m)\u001b[0m\u001b[0;34m)\u001b[0m\u001b[0;34m,\u001b[0m \u001b[0maxis\u001b[0m\u001b[0;34m=\u001b[0m\u001b[0;36m1\u001b[0m\u001b[0;34m)\u001b[0m\u001b[0;34m\u001b[0m\u001b[0;34m\u001b[0m\u001b[0m\n\u001b[0m\u001b[1;32m      2\u001b[0m \u001b[0mcleanData\u001b[0m\u001b[0;34m.\u001b[0m\u001b[0mhead\u001b[0m\u001b[0;34m(\u001b[0m\u001b[0;34m)\u001b[0m\u001b[0;34m\u001b[0m\u001b[0;34m\u001b[0m\u001b[0m\n",
      "\u001b[0;32m/usr/local/lib/python3.7/site-packages/pandas/core/frame.py\u001b[0m in \u001b[0;36mapply\u001b[0;34m(self, func, axis, broadcast, raw, reduce, result_type, args, **kwds)\u001b[0m\n\u001b[1;32m   6926\u001b[0m             \u001b[0mkwds\u001b[0m\u001b[0;34m=\u001b[0m\u001b[0mkwds\u001b[0m\u001b[0;34m,\u001b[0m\u001b[0;34m\u001b[0m\u001b[0;34m\u001b[0m\u001b[0m\n\u001b[1;32m   6927\u001b[0m         )\n\u001b[0;32m-> 6928\u001b[0;31m         \u001b[0;32mreturn\u001b[0m \u001b[0mop\u001b[0m\u001b[0;34m.\u001b[0m\u001b[0mget_result\u001b[0m\u001b[0;34m(\u001b[0m\u001b[0;34m)\u001b[0m\u001b[0;34m\u001b[0m\u001b[0;34m\u001b[0m\u001b[0m\n\u001b[0m\u001b[1;32m   6929\u001b[0m \u001b[0;34m\u001b[0m\u001b[0m\n\u001b[1;32m   6930\u001b[0m     \u001b[0;32mdef\u001b[0m \u001b[0mapplymap\u001b[0m\u001b[0;34m(\u001b[0m\u001b[0mself\u001b[0m\u001b[0;34m,\u001b[0m \u001b[0mfunc\u001b[0m\u001b[0;34m)\u001b[0m\u001b[0;34m:\u001b[0m\u001b[0;34m\u001b[0m\u001b[0;34m\u001b[0m\u001b[0m\n",
      "\u001b[0;32m/usr/local/lib/python3.7/site-packages/pandas/core/apply.py\u001b[0m in \u001b[0;36mget_result\u001b[0;34m(self)\u001b[0m\n\u001b[1;32m    184\u001b[0m             \u001b[0;32mreturn\u001b[0m \u001b[0mself\u001b[0m\u001b[0;34m.\u001b[0m\u001b[0mapply_raw\u001b[0m\u001b[0;34m(\u001b[0m\u001b[0;34m)\u001b[0m\u001b[0;34m\u001b[0m\u001b[0;34m\u001b[0m\u001b[0m\n\u001b[1;32m    185\u001b[0m \u001b[0;34m\u001b[0m\u001b[0m\n\u001b[0;32m--> 186\u001b[0;31m         \u001b[0;32mreturn\u001b[0m \u001b[0mself\u001b[0m\u001b[0;34m.\u001b[0m\u001b[0mapply_standard\u001b[0m\u001b[0;34m(\u001b[0m\u001b[0;34m)\u001b[0m\u001b[0;34m\u001b[0m\u001b[0;34m\u001b[0m\u001b[0m\n\u001b[0m\u001b[1;32m    187\u001b[0m \u001b[0;34m\u001b[0m\u001b[0m\n\u001b[1;32m    188\u001b[0m     \u001b[0;32mdef\u001b[0m \u001b[0mapply_empty_result\u001b[0m\u001b[0;34m(\u001b[0m\u001b[0mself\u001b[0m\u001b[0;34m)\u001b[0m\u001b[0;34m:\u001b[0m\u001b[0;34m\u001b[0m\u001b[0;34m\u001b[0m\u001b[0m\n",
      "\u001b[0;32m/usr/local/lib/python3.7/site-packages/pandas/core/apply.py\u001b[0m in \u001b[0;36mapply_standard\u001b[0;34m(self)\u001b[0m\n\u001b[1;32m    290\u001b[0m \u001b[0;34m\u001b[0m\u001b[0m\n\u001b[1;32m    291\u001b[0m         \u001b[0;31m# compute the result using the series generator\u001b[0m\u001b[0;34m\u001b[0m\u001b[0;34m\u001b[0m\u001b[0;34m\u001b[0m\u001b[0m\n\u001b[0;32m--> 292\u001b[0;31m         \u001b[0mself\u001b[0m\u001b[0;34m.\u001b[0m\u001b[0mapply_series_generator\u001b[0m\u001b[0;34m(\u001b[0m\u001b[0;34m)\u001b[0m\u001b[0;34m\u001b[0m\u001b[0;34m\u001b[0m\u001b[0m\n\u001b[0m\u001b[1;32m    293\u001b[0m \u001b[0;34m\u001b[0m\u001b[0m\n\u001b[1;32m    294\u001b[0m         \u001b[0;31m# wrap results\u001b[0m\u001b[0;34m\u001b[0m\u001b[0;34m\u001b[0m\u001b[0;34m\u001b[0m\u001b[0m\n",
      "\u001b[0;32m/usr/local/lib/python3.7/site-packages/pandas/core/apply.py\u001b[0m in \u001b[0;36mapply_series_generator\u001b[0;34m(self)\u001b[0m\n\u001b[1;32m    319\u001b[0m             \u001b[0;32mtry\u001b[0m\u001b[0;34m:\u001b[0m\u001b[0;34m\u001b[0m\u001b[0;34m\u001b[0m\u001b[0m\n\u001b[1;32m    320\u001b[0m                 \u001b[0;32mfor\u001b[0m \u001b[0mi\u001b[0m\u001b[0;34m,\u001b[0m \u001b[0mv\u001b[0m \u001b[0;32min\u001b[0m \u001b[0menumerate\u001b[0m\u001b[0;34m(\u001b[0m\u001b[0mseries_gen\u001b[0m\u001b[0;34m)\u001b[0m\u001b[0;34m:\u001b[0m\u001b[0;34m\u001b[0m\u001b[0;34m\u001b[0m\u001b[0m\n\u001b[0;32m--> 321\u001b[0;31m                     \u001b[0mresults\u001b[0m\u001b[0;34m[\u001b[0m\u001b[0mi\u001b[0m\u001b[0;34m]\u001b[0m \u001b[0;34m=\u001b[0m \u001b[0mself\u001b[0m\u001b[0;34m.\u001b[0m\u001b[0mf\u001b[0m\u001b[0;34m(\u001b[0m\u001b[0mv\u001b[0m\u001b[0;34m)\u001b[0m\u001b[0;34m\u001b[0m\u001b[0;34m\u001b[0m\u001b[0m\n\u001b[0m\u001b[1;32m    322\u001b[0m                     \u001b[0mkeys\u001b[0m\u001b[0;34m.\u001b[0m\u001b[0mappend\u001b[0m\u001b[0;34m(\u001b[0m\u001b[0mv\u001b[0m\u001b[0;34m.\u001b[0m\u001b[0mname\u001b[0m\u001b[0;34m)\u001b[0m\u001b[0;34m\u001b[0m\u001b[0;34m\u001b[0m\u001b[0m\n\u001b[1;32m    323\u001b[0m             \u001b[0;32mexcept\u001b[0m \u001b[0mException\u001b[0m \u001b[0;32mas\u001b[0m \u001b[0me\u001b[0m\u001b[0;34m:\u001b[0m\u001b[0;34m\u001b[0m\u001b[0;34m\u001b[0m\u001b[0m\n",
      "\u001b[0;32m<ipython-input-18-e64e2c91b085>\u001b[0m in \u001b[0;36m<lambda>\u001b[0;34m(x)\u001b[0m\n\u001b[0;32m----> 1\u001b[0;31m \u001b[0mcleanData\u001b[0m\u001b[0;34m[\u001b[0m\u001b[0;34m'StarbucksLat'\u001b[0m\u001b[0;34m]\u001b[0m\u001b[0;34m=\u001b[0m\u001b[0mcleanData\u001b[0m\u001b[0;34m.\u001b[0m\u001b[0mapply\u001b[0m\u001b[0;34m(\u001b[0m\u001b[0;32mlambda\u001b[0m \u001b[0mx\u001b[0m\u001b[0;34m:\u001b[0m \u001b[0mfourSquareStarbucksLat\u001b[0m\u001b[0;34m(\u001b[0m\u001b[0mstr\u001b[0m\u001b[0;34m(\u001b[0m\u001b[0mx\u001b[0m\u001b[0;34m.\u001b[0m\u001b[0mlatitude\u001b[0m\u001b[0;34m)\u001b[0m\u001b[0;34m,\u001b[0m \u001b[0mstr\u001b[0m\u001b[0;34m(\u001b[0m\u001b[0mx\u001b[0m\u001b[0;34m.\u001b[0m\u001b[0mlongitude\u001b[0m\u001b[0;34m)\u001b[0m\u001b[0;34m)\u001b[0m\u001b[0;34m,\u001b[0m \u001b[0maxis\u001b[0m\u001b[0;34m=\u001b[0m\u001b[0;36m1\u001b[0m\u001b[0;34m)\u001b[0m\u001b[0;34m\u001b[0m\u001b[0;34m\u001b[0m\u001b[0m\n\u001b[0m\u001b[1;32m      2\u001b[0m \u001b[0mcleanData\u001b[0m\u001b[0;34m.\u001b[0m\u001b[0mhead\u001b[0m\u001b[0;34m(\u001b[0m\u001b[0;34m)\u001b[0m\u001b[0;34m\u001b[0m\u001b[0;34m\u001b[0m\u001b[0m\n",
      "\u001b[0;32m<ipython-input-17-d21cb4ddeb2a>\u001b[0m in \u001b[0;36mfourSquareStarbucksLat\u001b[0;34m(lat, long)\u001b[0m\n\u001b[1;32m     15\u001b[0m     \u001b[0mdata\u001b[0m \u001b[0;34m=\u001b[0m \u001b[0mjson\u001b[0m\u001b[0;34m.\u001b[0m\u001b[0mloads\u001b[0m\u001b[0;34m(\u001b[0m\u001b[0mresp\u001b[0m\u001b[0;34m.\u001b[0m\u001b[0mtext\u001b[0m\u001b[0;34m)\u001b[0m\u001b[0;34m\u001b[0m\u001b[0;34m\u001b[0m\u001b[0m\n\u001b[1;32m     16\u001b[0m \u001b[0;34m\u001b[0m\u001b[0m\n\u001b[0;32m---> 17\u001b[0;31m     \u001b[0mlatitud\u001b[0m \u001b[0;34m=\u001b[0m \u001b[0mdata\u001b[0m\u001b[0;34m[\u001b[0m\u001b[0;34m'response'\u001b[0m\u001b[0;34m]\u001b[0m\u001b[0;34m[\u001b[0m\u001b[0;34m'groups'\u001b[0m\u001b[0;34m]\u001b[0m\u001b[0;34m[\u001b[0m\u001b[0;36m0\u001b[0m\u001b[0;34m]\u001b[0m\u001b[0;34m[\u001b[0m\u001b[0;34m'items'\u001b[0m\u001b[0;34m]\u001b[0m\u001b[0;34m[\u001b[0m\u001b[0;36m0\u001b[0m\u001b[0;34m]\u001b[0m\u001b[0;34m[\u001b[0m\u001b[0;34m'venue'\u001b[0m\u001b[0;34m]\u001b[0m\u001b[0;34m[\u001b[0m\u001b[0;34m'location'\u001b[0m\u001b[0;34m]\u001b[0m\u001b[0;34m[\u001b[0m\u001b[0;34m'lat'\u001b[0m\u001b[0;34m]\u001b[0m\u001b[0;34m\u001b[0m\u001b[0;34m\u001b[0m\u001b[0m\n\u001b[0m\u001b[1;32m     18\u001b[0m \u001b[0;34m\u001b[0m\u001b[0m\n\u001b[1;32m     19\u001b[0m     \u001b[0;32mreturn\u001b[0m \u001b[0mlatitud\u001b[0m\u001b[0;34m\u001b[0m\u001b[0;34m\u001b[0m\u001b[0m\n",
      "\u001b[0;31mKeyError\u001b[0m: ('groups', 'occurred at index 15')"
     ]
    }
   ],
   "source": [
    "cleanData['StarbucksLat']=cleanData.apply(lambda x: fourSquareStarbucksLat(str(x.latitude), str(x.longitude)), axis=1)\n",
    "cleanData.head()"
   ]
  },
  {
   "cell_type": "code",
   "execution_count": null,
   "metadata": {},
   "outputs": [],
   "source": [
    "def fourSquareStarbucksLong (lat, long):\n",
    "    \n",
    "    url = 'https://api.foursquare.com/v2/venues/explore'\n",
    "\n",
    "    params = dict(\n",
    "      client_id=CLIENT_ID,\n",
    "      client_secret=token,\n",
    "      v='20200210',\n",
    "      ll=lat+ \",\" + long,\n",
    "      query=\"Starbucks\",\n",
    "      limit=1\n",
    "    )\n",
    "\n",
    "    resp = requests.get(url=url, params=params)\n",
    "    data = json.loads(resp.text)\n",
    "\n",
    "    longitude = data['response']['groups'][0]['items'][0]['venue']['location']['lng']\n",
    "\n",
    "    return longitude"
   ]
  },
  {
   "cell_type": "code",
   "execution_count": null,
   "metadata": {},
   "outputs": [],
   "source": [
    "cleanData['StarbucksLong']=cleanData.apply(lambda x: fourSquareStarbucksLong(str(x.latitude), str(x.longitude)), axis=1)\n",
    "cleanData.head()"
   ]
  },
  {
   "cell_type": "code",
   "execution_count": null,
   "metadata": {},
   "outputs": [],
   "source": [
    "def fourSquareStarbucks (lat, long):\n",
    "    \n",
    "    url = 'https://api.foursquare.com/v2/venues/explore'\n",
    "\n",
    "    params = dict(\n",
    "      client_id=CLIENT_ID,\n",
    "      client_secret=token,\n",
    "      v='20200210',\n",
    "      ll=lat+ \",\" + long,\n",
    "      query=\"Starbucks\",\n",
    "      limit=1\n",
    "    )\n",
    "\n",
    "    resp = requests.get(url=url, params=params)\n",
    "    data = json.loads(resp.text)\n",
    "   \n",
    "    latitud = data['response']['groups'][0]['items'][0]['venue']['location']['lat']\n",
    "    longitude = data['response']['groups'][0]['items'][0]['venue']['location']['lng']\n",
    "\n",
    "    return {\n",
    "        \"type\":\"Point\",\n",
    "        \"coordinates\":[float(latitud),float(longitude)]}"
   ]
  },
  {
   "cell_type": "code",
   "execution_count": null,
   "metadata": {},
   "outputs": [],
   "source": [
    "cleanData['Starbucks']=cleanData.apply(lambda x: fourSquareStarbucks(str(x.latitude), str(x.longitude)), axis=1)\n",
    "cleanData.head()"
   ]
  },
  {
   "cell_type": "code",
   "execution_count": null,
   "metadata": {
    "scrolled": true
   },
   "outputs": [],
   "source": [
    "cleanData = cleanData.rename(columns={\"latitude\":\"lat_comp\", \"longitude\":\"long_comp\"})\n",
    "cleanData.head()"
   ]
  },
  {
   "cell_type": "code",
   "execution_count": null,
   "metadata": {},
   "outputs": [],
   "source": [
    "cleanData.to_csv(r'output/dfstar.csv')"
   ]
  },
  {
   "cell_type": "markdown",
   "metadata": {},
   "source": [
    "## To pin the coordinates in a map"
   ]
  },
  {
   "cell_type": "code",
   "execution_count": null,
   "metadata": {},
   "outputs": [],
   "source": [
    "import geopandas as gpd\n",
    "import pandas as pd\n",
    "\n",
    "from cartoframes.viz import Map, Layer\n",
    "from cartoframes.viz.helpers import size_continuous_layer\n",
    "from cartoframes.viz.widgets import histogram_widget\n",
    "\n",
    "import folium\n",
    "from folium import Choropleth, Circle, Marker\n",
    "from folium.plugins import HeatMap, MarkerCluster"
   ]
  },
  {
   "cell_type": "code",
   "execution_count": null,
   "metadata": {
    "scrolled": true
   },
   "outputs": [],
   "source": [
    "data = pd.read_csv(\"output/dfstar.csv\") \n",
    "dfstar = pd.DataFrame(data)\n",
    "dfstar.head()"
   ]
  },
  {
   "cell_type": "code",
   "execution_count": null,
   "metadata": {
    "scrolled": true
   },
   "outputs": [],
   "source": [
    "coorcomp = dfstar[[\"lat_comp\", \"long_comp\"]]\n",
    "gdfCompanies = gpd.GeoDataFrame(coorcomp, geometry=gpd.points_from_xy(coorcomp.lat_comp, coorcomp.long_comp))\n",
    "gdfCompanies.head()"
   ]
  },
  {
   "cell_type": "code",
   "execution_count": null,
   "metadata": {},
   "outputs": [],
   "source": [
    "coorstar = dfstar[[\"StarbucksLat\",\"StarbucksLong\"]]\n",
    "gdfStarbucks = gpd.GeoDataFrame(coorstar, geometry=gpd.points_from_xy(coorstar.StarbucksLat, coorstar.StarbucksLong))\n",
    "gdfStarbucks.head()"
   ]
  },
  {
   "cell_type": "code",
   "execution_count": null,
   "metadata": {},
   "outputs": [],
   "source": [
    "gdfStarbucks.to_file('output/starbucks.geojson', driver='GeoJSON')\n",
    "gdfStarbucks = gpd.read_file('output/starbucks.geojson', crs='EPSG:4346')"
   ]
  },
  {
   "cell_type": "code",
   "execution_count": null,
   "metadata": {
    "scrolled": true
   },
   "outputs": [],
   "source": [
    "Map(Layer(gdfCompanies, gdfStarbucks))"
   ]
  },
  {
   "cell_type": "markdown",
   "metadata": {},
   "source": [
    "# To do:\n",
    "\n",
    "### - Add more venue filters: vegan places, etc.\n",
    "### - Calculate minimun distance to rank possible places"
   ]
  }
 ],
 "metadata": {
  "kernelspec": {
   "display_name": "Python 3",
   "language": "python",
   "name": "python3"
  },
  "language_info": {
   "codemirror_mode": {
    "name": "ipython",
    "version": 3
   },
   "file_extension": ".py",
   "mimetype": "text/x-python",
   "name": "python",
   "nbconvert_exporter": "python",
   "pygments_lexer": "ipython3",
   "version": "3.7.6"
  }
 },
 "nbformat": 4,
 "nbformat_minor": 2
}
